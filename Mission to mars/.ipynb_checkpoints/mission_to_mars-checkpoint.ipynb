{
 "cells": [
  {
   "cell_type": "code",
   "execution_count": 1,
   "id": "b03e69bf",
   "metadata": {},
   "outputs": [],
   "source": [
    "#Importing dependencies\n",
    "from splinter import Browser\n",
    "from bs4 import BeautifulSoup\n",
    "from webdriver_manager.chrome import ChromeDriverManager\n",
    "import pandas as pd\n",
    "import time"
   ]
  },
  {
   "cell_type": "code",
   "execution_count": 15,
   "id": "416b85cd",
   "metadata": {},
   "outputs": [
    {
     "name": "stderr",
     "output_type": "stream",
     "text": [
      "\n",
      "\n",
      "====== WebDriver manager ======\n",
      "Current google-chrome version is 91.0.4472\n",
      "Get LATEST driver version for 91.0.4472\n",
      "Driver [C:\\Users\\saman\\.wdm\\drivers\\chromedriver\\win32\\91.0.4472.101\\chromedriver.exe] found in cache\n"
     ]
    }
   ],
   "source": [
    "# Setup splinter\n",
    "executable_path = {'executable_path': ChromeDriverManager().install()}\n",
    "browser = Browser('chrome', **executable_path, headless=False)"
   ]
  },
  {
   "cell_type": "code",
   "execution_count": 154,
   "id": "dd3bccdc",
   "metadata": {},
   "outputs": [],
   "source": [
    "#Setting main dictionary\n",
    "mars_dict = []\n",
    "#Fail, was not able to insert it as it goes, so I will join everything in the end since it was sensitive to my variable types"
   ]
  },
  {
   "cell_type": "markdown",
   "id": "0aa6f4e1",
   "metadata": {},
   "source": [
    "**Mars News**"
   ]
  },
  {
   "cell_type": "code",
   "execution_count": 158,
   "id": "7d83d47f",
   "metadata": {},
   "outputs": [],
   "source": [
    "#Future reference for self, do NOT close the browser that just opened on the previos code! It won't open itself again\n",
    "#Retrieving data fron redplanetscience.com\n",
    "url = 'https://redplanetscience.com/'\n",
    "browser.visit(url)"
   ]
  },
  {
   "cell_type": "code",
   "execution_count": 159,
   "id": "384dd9a2",
   "metadata": {},
   "outputs": [],
   "source": [
    "#Starting the beautiful soup with html\n",
    "html = browser.html\n",
    "soup = BeautifulSoup(html, 'html.parser')"
   ]
  },
  {
   "cell_type": "code",
   "execution_count": 160,
   "id": "750ab00d",
   "metadata": {},
   "outputs": [
    {
     "name": "stdout",
     "output_type": "stream",
     "text": [
      "NASA's MAVEN Maps Winds in the Martian Upper Atmosphere that Mirror the Terrain Below and Gives Clues to Martian Climate\n"
     ]
    }
   ],
   "source": [
    "#Getting the latest news title\n",
    "news_title = soup.find(\"div\", class_=\"content_title\").text\n",
    "print(news_title)"
   ]
  },
  {
   "cell_type": "code",
   "execution_count": 161,
   "id": "bd3f359a",
   "metadata": {
    "scrolled": true
   },
   "outputs": [
    {
     "name": "stdout",
     "output_type": "stream",
     "text": [
      "Researchers have created the first map of wind circulation in the upper atmosphere of a planet besides Earth, using data from NASA’s MAVEN spacecraft that were collected during the last two years.\n"
     ]
    }
   ],
   "source": [
    "#Getting latest Article Text along with News Title\n",
    "news_p = article.find(\"div\", class_ =\"article_teaser_body\").text\n",
    "print(news_p)"
   ]
  },
  {
   "cell_type": "code",
   "execution_count": null,
   "id": "876e0e10",
   "metadata": {},
   "outputs": [],
   "source": [
    "brower.quit()\n",
    "#Not done yet so I'm not running it"
   ]
  },
  {
   "cell_type": "markdown",
   "id": "32cfe490",
   "metadata": {},
   "source": [
    "**JPL Mars Space Images (Featured Image)**"
   ]
  },
  {
   "cell_type": "code",
   "execution_count": 27,
   "id": "63069a4b",
   "metadata": {},
   "outputs": [],
   "source": [
    "#Retrieving data fron redplanetscience.com\n",
    "url = 'http://spaceimages-mars.com/'\n",
    "browser.visit(url)"
   ]
  },
  {
   "cell_type": "code",
   "execution_count": 28,
   "id": "26d6e2b4",
   "metadata": {},
   "outputs": [],
   "source": [
    "#Starting the beautiful soup with html\n",
    "html = browser.html\n",
    "soup = BeautifulSoup(html, 'html.parser')"
   ]
  },
  {
   "cell_type": "code",
   "execution_count": 32,
   "id": "0205fc27",
   "metadata": {},
   "outputs": [
    {
     "name": "stdout",
     "output_type": "stream",
     "text": [
      "http://spaceimages-mars.com/image/featured/mars3.jpg\n"
     ]
    }
   ],
   "source": [
    "#Using soup to find header and its featured image\n",
    "image = soup.find(\"div\", class_=\"header\")\n",
    "f_image = image.find(\"img\", class_=\"headerimage\")[\"src\"]\n",
    "featured_image_url = url + f_image\n",
    "print(featured_image_url)\n",
    "#Aw, a beautiful dusty cloud"
   ]
  },
  {
   "cell_type": "code",
   "execution_count": null,
   "id": "3405a2b0",
   "metadata": {},
   "outputs": [],
   "source": [
    "brower.quit()\n",
    "#Not done yet so I'm not running it"
   ]
  },
  {
   "cell_type": "markdown",
   "id": "29bdb829",
   "metadata": {},
   "source": [
    "**Mars Facts**"
   ]
  },
  {
   "cell_type": "code",
   "execution_count": 33,
   "id": "f986f11a",
   "metadata": {},
   "outputs": [],
   "source": [
    "#Retrieving data fron redplanetscience.com\n",
    "url = 'https://galaxyfacts-mars.com'\n",
    "browser.visit(url)"
   ]
  },
  {
   "cell_type": "code",
   "execution_count": 35,
   "id": "b08be2a7",
   "metadata": {},
   "outputs": [
    {
     "data": {
      "text/plain": [
       "[                         0                1                2\n",
       " 0  Mars - Earth Comparison             Mars            Earth\n",
       " 1                Diameter:         6,779 km        12,742 km\n",
       " 2                    Mass:  6.39 × 10^23 kg  5.97 × 10^24 kg\n",
       " 3                   Moons:                2                1\n",
       " 4       Distance from Sun:   227,943,824 km   149,598,262 km\n",
       " 5          Length of Year:   687 Earth days      365.24 days\n",
       " 6             Temperature:     -87 to -5 °C      -88 to 58°C,\n",
       "                       0                              1\n",
       " 0  Equatorial Diameter:                       6,792 km\n",
       " 1       Polar Diameter:                       6,752 km\n",
       " 2                 Mass:  6.39 × 10^23 kg (0.11 Earths)\n",
       " 3                Moons:          2 ( Phobos & Deimos )\n",
       " 4       Orbit Distance:       227,943,824 km (1.38 AU)\n",
       " 5         Orbit Period:           687 days (1.9 years)\n",
       " 6  Surface Temperature:                   -87 to -5 °C\n",
       " 7         First Record:              2nd millennium BC\n",
       " 8          Recorded By:           Egyptian astronomers]"
      ]
     },
     "execution_count": 35,
     "metadata": {},
     "output_type": "execute_result"
    }
   ],
   "source": [
    "#Reading the table to see columns and size\n",
    "tables = pd.read_html(url)\n",
    "tables"
   ]
  },
  {
   "cell_type": "code",
   "execution_count": 40,
   "id": "523b3e92",
   "metadata": {},
   "outputs": [
    {
     "data": {
      "text/html": [
       "<div>\n",
       "<style scoped>\n",
       "    .dataframe tbody tr th:only-of-type {\n",
       "        vertical-align: middle;\n",
       "    }\n",
       "\n",
       "    .dataframe tbody tr th {\n",
       "        vertical-align: top;\n",
       "    }\n",
       "\n",
       "    .dataframe thead th {\n",
       "        text-align: right;\n",
       "    }\n",
       "</style>\n",
       "<table border=\"1\" class=\"dataframe\">\n",
       "  <thead>\n",
       "    <tr style=\"text-align: right;\">\n",
       "      <th></th>\n",
       "      <th>0</th>\n",
       "      <th>1</th>\n",
       "      <th>2</th>\n",
       "    </tr>\n",
       "  </thead>\n",
       "  <tbody>\n",
       "    <tr>\n",
       "      <th>0</th>\n",
       "      <td>Mars - Earth Comparison</td>\n",
       "      <td>Mars</td>\n",
       "      <td>Earth</td>\n",
       "    </tr>\n",
       "    <tr>\n",
       "      <th>1</th>\n",
       "      <td>Diameter:</td>\n",
       "      <td>6,779 km</td>\n",
       "      <td>12,742 km</td>\n",
       "    </tr>\n",
       "    <tr>\n",
       "      <th>2</th>\n",
       "      <td>Mass:</td>\n",
       "      <td>6.39 × 10^23 kg</td>\n",
       "      <td>5.97 × 10^24 kg</td>\n",
       "    </tr>\n",
       "    <tr>\n",
       "      <th>3</th>\n",
       "      <td>Moons:</td>\n",
       "      <td>2</td>\n",
       "      <td>1</td>\n",
       "    </tr>\n",
       "    <tr>\n",
       "      <th>4</th>\n",
       "      <td>Distance from Sun:</td>\n",
       "      <td>227,943,824 km</td>\n",
       "      <td>149,598,262 km</td>\n",
       "    </tr>\n",
       "  </tbody>\n",
       "</table>\n",
       "</div>"
      ],
      "text/plain": [
       "                         0                1                2\n",
       "0  Mars - Earth Comparison             Mars            Earth\n",
       "1                Diameter:         6,779 km        12,742 km\n",
       "2                    Mass:  6.39 × 10^23 kg  5.97 × 10^24 kg\n",
       "3                   Moons:                2                1\n",
       "4       Distance from Sun:   227,943,824 km   149,598,262 km"
      ]
     },
     "execution_count": 40,
     "metadata": {},
     "output_type": "execute_result"
    }
   ],
   "source": [
    "#Transforming table to df\n",
    "tables = pd.read_html(url)\n",
    "mars_facts_df = tables[0]\n",
    "mars_facts_df.head(5)"
   ]
  },
  {
   "cell_type": "code",
   "execution_count": 39,
   "id": "561dd15b",
   "metadata": {},
   "outputs": [
    {
     "data": {
      "text/plain": [
       "Index([['Mars - Earth Comparison', 'Mars', 'Earth'], 'Description', 'Value'], dtype='object')"
      ]
     },
     "execution_count": 39,
     "metadata": {},
     "output_type": "execute_result"
    }
   ],
   "source": [
    "#Checking our column names\n",
    "mars_facts_df.columns"
   ]
  },
  {
   "cell_type": "code",
   "execution_count": 42,
   "id": "2a3218ec",
   "metadata": {},
   "outputs": [
    {
     "data": {
      "text/html": [
       "<div>\n",
       "<style scoped>\n",
       "    .dataframe tbody tr th:only-of-type {\n",
       "        vertical-align: middle;\n",
       "    }\n",
       "\n",
       "    .dataframe tbody tr th {\n",
       "        vertical-align: top;\n",
       "    }\n",
       "\n",
       "    .dataframe thead th {\n",
       "        text-align: right;\n",
       "    }\n",
       "</style>\n",
       "<table border=\"1\" class=\"dataframe\">\n",
       "  <thead>\n",
       "    <tr style=\"text-align: right;\">\n",
       "      <th></th>\n",
       "      <th>Mars - Earth Comparison</th>\n",
       "      <th>Mars</th>\n",
       "      <th>Earth</th>\n",
       "    </tr>\n",
       "  </thead>\n",
       "  <tbody>\n",
       "    <tr>\n",
       "      <th>1</th>\n",
       "      <td>Diameter:</td>\n",
       "      <td>6,779 km</td>\n",
       "      <td>12,742 km</td>\n",
       "    </tr>\n",
       "    <tr>\n",
       "      <th>2</th>\n",
       "      <td>Mass:</td>\n",
       "      <td>6.39 × 10^23 kg</td>\n",
       "      <td>5.97 × 10^24 kg</td>\n",
       "    </tr>\n",
       "    <tr>\n",
       "      <th>3</th>\n",
       "      <td>Moons:</td>\n",
       "      <td>2</td>\n",
       "      <td>1</td>\n",
       "    </tr>\n",
       "    <tr>\n",
       "      <th>4</th>\n",
       "      <td>Distance from Sun:</td>\n",
       "      <td>227,943,824 km</td>\n",
       "      <td>149,598,262 km</td>\n",
       "    </tr>\n",
       "    <tr>\n",
       "      <th>5</th>\n",
       "      <td>Length of Year:</td>\n",
       "      <td>687 Earth days</td>\n",
       "      <td>365.24 days</td>\n",
       "    </tr>\n",
       "    <tr>\n",
       "      <th>6</th>\n",
       "      <td>Temperature:</td>\n",
       "      <td>-87 to -5 °C</td>\n",
       "      <td>-88 to 58°C</td>\n",
       "    </tr>\n",
       "  </tbody>\n",
       "</table>\n",
       "</div>"
      ],
      "text/plain": [
       "0 Mars - Earth Comparison             Mars            Earth\n",
       "1               Diameter:         6,779 km        12,742 km\n",
       "2                   Mass:  6.39 × 10^23 kg  5.97 × 10^24 kg\n",
       "3                  Moons:                2                1\n",
       "4      Distance from Sun:   227,943,824 km   149,598,262 km\n",
       "5         Length of Year:   687 Earth days      365.24 days\n",
       "6            Temperature:     -87 to -5 °C      -88 to 58°C"
      ]
     },
     "execution_count": 42,
     "metadata": {},
     "output_type": "execute_result"
    }
   ],
   "source": [
    "#A fixed column name can't be written so it is better to get it from a function because it is not the same as the table goes\n",
    "#We get the first values as the name for the columns\n",
    "mars_facts_df.columns = mars_facts_df.iloc[0]\n",
    "mf_2 = mars_facts_df.iloc[1:]\n",
    "mf_2"
   ]
  },
  {
   "cell_type": "code",
   "execution_count": 45,
   "id": "de387326",
   "metadata": {},
   "outputs": [],
   "source": [
    "#Setting our index with set index function \n",
    "mf_2.set_index('Mars - Earth Comparison', inplace = True)"
   ]
  },
  {
   "cell_type": "code",
   "execution_count": 46,
   "id": "03c15f77",
   "metadata": {},
   "outputs": [
    {
     "data": {
      "text/plain": [
       "'<table border=\"1\" class=\"dataframe\">\\n  <thead>\\n    <tr style=\"text-align: right;\">\\n      <th></th>\\n      <th>Mars - Earth Comparison</th>\\n      <th>Mars</th>\\n      <th>Earth</th>\\n    </tr>\\n  </thead>\\n  <tbody>\\n    <tr>\\n      <th>0</th>\\n      <td>Mars - Earth Comparison</td>\\n      <td>Mars</td>\\n      <td>Earth</td>\\n    </tr>\\n    <tr>\\n      <th>1</th>\\n      <td>Diameter:</td>\\n      <td>6,779 km</td>\\n      <td>12,742 km</td>\\n    </tr>\\n    <tr>\\n      <th>2</th>\\n      <td>Mass:</td>\\n      <td>6.39 × 10^23 kg</td>\\n      <td>5.97 × 10^24 kg</td>\\n    </tr>\\n    <tr>\\n      <th>3</th>\\n      <td>Moons:</td>\\n      <td>2</td>\\n      <td>1</td>\\n    </tr>\\n    <tr>\\n      <th>4</th>\\n      <td>Distance from Sun:</td>\\n      <td>227,943,824 km</td>\\n      <td>149,598,262 km</td>\\n    </tr>\\n    <tr>\\n      <th>5</th>\\n      <td>Length of Year:</td>\\n      <td>687 Earth days</td>\\n      <td>365.24 days</td>\\n    </tr>\\n    <tr>\\n      <th>6</th>\\n      <td>Temperature:</td>\\n      <td>-87 to -5 °C</td>\\n      <td>-88 to 58°C</td>\\n    </tr>\\n  </tbody>\\n</table>'"
      ]
     },
     "execution_count": 46,
     "metadata": {},
     "output_type": "execute_result"
    }
   ],
   "source": [
    "#Use Pandas to convert the data to a HTML table string\n",
    "html_table = mars_facts_df.to_html()\n",
    "html_table"
   ]
  },
  {
   "cell_type": "code",
   "execution_count": 49,
   "id": "53353968",
   "metadata": {},
   "outputs": [],
   "source": [
    "#Export to html code\n",
    "#Note to future self, use the DATAFRAME not the previous table since it is already in html\n",
    "mf_2.to_html('table.html')"
   ]
  },
  {
   "cell_type": "code",
   "execution_count": null,
   "id": "ec7fb69e",
   "metadata": {},
   "outputs": [],
   "source": [
    "brower.quit()\n",
    "#Not done yet so I'm not running it"
   ]
  },
  {
   "cell_type": "markdown",
   "id": "4a7e4d2e",
   "metadata": {},
   "source": [
    "**Mars Hemisphere**"
   ]
  },
  {
   "cell_type": "code",
   "execution_count": 148,
   "id": "6c39e662",
   "metadata": {},
   "outputs": [],
   "source": [
    "#Retrieving data fron redplanetscience.com\n",
    "url = 'https://marshemispheres.com'\n",
    "browser.visit(url)"
   ]
  },
  {
   "cell_type": "code",
   "execution_count": 149,
   "id": "950be87d",
   "metadata": {},
   "outputs": [],
   "source": [
    "#Starting the beautiful soup with html\n",
    "html = browser.html\n",
    "soup = BeautifulSoup(html, 'html.parser')"
   ]
  },
  {
   "cell_type": "code",
   "execution_count": 150,
   "id": "5f9777c9",
   "metadata": {},
   "outputs": [],
   "source": [
    "#Finding the items\n",
    "items = soup.find_all('div', class_='item')\n"
   ]
  },
  {
   "cell_type": "code",
   "execution_count": 151,
   "id": "2afd8cfc",
   "metadata": {},
   "outputs": [],
   "source": [
    "#Dictionary created to store all items\n",
    "hemisphere = []\n"
   ]
  },
  {
   "cell_type": "code",
   "execution_count": 152,
   "id": "2872a602",
   "metadata": {},
   "outputs": [
    {
     "name": "stdout",
     "output_type": "stream",
     "text": [
      "[{'Title': 'Cerberus Hemisphere Enhanced', 'Image_Url': 'https://marshemispheres.com/images/f5e372a36edfa389625da6d0cc25d905_cerberus_enhanced.tif_full.jpg'}, {'Title': 'Schiaparelli Hemisphere Enhanced', 'Image_Url': 'https://marshemispheres.com/images/3778f7b43bbbc89d6e3cfabb3613ba93_schiaparelli_enhanced.tif_full.jpg'}, {'Title': 'Syrtis Major Hemisphere Enhanced', 'Image_Url': 'https://marshemispheres.com/images/555e6403a6ddd7ba16ddb0e471cadcf7_syrtis_major_enhanced.tif_full.jpg'}, {'Title': 'Valles Marineris Hemisphere Enhanced', 'Image_Url': 'https://marshemispheres.com/images/b3c7c6c9138f57b4756be9b9c43e3a48_valles_marineris_enhanced.tif_full.jpg'}]\n"
     ]
    }
   ],
   "source": [
    "#Running for function to go through all items\n",
    "for x in items: \n",
    "    #Finding our hemisphere title\n",
    "    title_item = x.find('h3').text\n",
    "    find_href =  x.find('a', class_='itemLink product-item')['href']\n",
    "    linksies = 'https://marshemispheres.com/'\n",
    "    image_url = linksies + find_href\n",
    "    #Making sure our browser visits the image url we just created with the find function and the variable containing the link\n",
    "    browser.visit(image_url)\n",
    "    html = browser.html\n",
    "    soup = BeautifulSoup(html, 'html.parser')\n",
    "    image = soup.find('img', class_='wide-image')['src']\n",
    "    final_image = usgs_url + image\n",
    "    hemisphere.append({'Title':title_item, 'Image_Url':final_image})\n",
    "    \n",
    "print(hemisphere)\n",
    "#Wow this for almost killed my spirit\n",
    "#Note to self, if you run it over and over it piles links ontop, so run it from the start each time"
   ]
  },
  {
   "cell_type": "code",
   "execution_count": 163,
   "id": "ea919709",
   "metadata": {},
   "outputs": [],
   "source": [
    "#Directionary retry\n",
    "mars2={\n",
    "    'news_title': news_title,\n",
    "    'news_p': news_p,\n",
    "    'featured_image_url': featured_image_url,\n",
    "    'mars_facts':html_table,\n",
    "#Inserting our dictionary into this dictionary\n",
    "    'hemisphere_images': hemisphere\n",
    "}"
   ]
  },
  {
   "cell_type": "code",
   "execution_count": 165,
   "id": "d18e03dd",
   "metadata": {},
   "outputs": [
    {
     "data": {
      "text/plain": [
       "{'news_title': \"NASA's MAVEN Maps Winds in the Martian Upper Atmosphere that Mirror the Terrain Below and Gives Clues to Martian Climate\",\n",
       " 'news_p': 'Researchers have created the first map of wind circulation in the upper atmosphere of a planet besides Earth, using data from NASA’s MAVEN spacecraft that were collected during the last two years.',\n",
       " 'featured_image_url': 'http://spaceimages-mars.com/image/featured/mars3.jpg',\n",
       " 'mars_facts': '<table border=\"1\" class=\"dataframe\">\\n  <thead>\\n    <tr style=\"text-align: right;\">\\n      <th></th>\\n      <th>Mars - Earth Comparison</th>\\n      <th>Mars</th>\\n      <th>Earth</th>\\n    </tr>\\n  </thead>\\n  <tbody>\\n    <tr>\\n      <th>0</th>\\n      <td>Mars - Earth Comparison</td>\\n      <td>Mars</td>\\n      <td>Earth</td>\\n    </tr>\\n    <tr>\\n      <th>1</th>\\n      <td>Diameter:</td>\\n      <td>6,779 km</td>\\n      <td>12,742 km</td>\\n    </tr>\\n    <tr>\\n      <th>2</th>\\n      <td>Mass:</td>\\n      <td>6.39 × 10^23 kg</td>\\n      <td>5.97 × 10^24 kg</td>\\n    </tr>\\n    <tr>\\n      <th>3</th>\\n      <td>Moons:</td>\\n      <td>2</td>\\n      <td>1</td>\\n    </tr>\\n    <tr>\\n      <th>4</th>\\n      <td>Distance from Sun:</td>\\n      <td>227,943,824 km</td>\\n      <td>149,598,262 km</td>\\n    </tr>\\n    <tr>\\n      <th>5</th>\\n      <td>Length of Year:</td>\\n      <td>687 Earth days</td>\\n      <td>365.24 days</td>\\n    </tr>\\n    <tr>\\n      <th>6</th>\\n      <td>Temperature:</td>\\n      <td>-87 to -5 °C</td>\\n      <td>-88 to 58°C</td>\\n    </tr>\\n  </tbody>\\n</table>',\n",
       " 'hemisphere_images': [{'Title': 'Cerberus Hemisphere Enhanced',\n",
       "   'Image_Url': 'https://marshemispheres.com/images/f5e372a36edfa389625da6d0cc25d905_cerberus_enhanced.tif_full.jpg'},\n",
       "  {'Title': 'Schiaparelli Hemisphere Enhanced',\n",
       "   'Image_Url': 'https://marshemispheres.com/images/3778f7b43bbbc89d6e3cfabb3613ba93_schiaparelli_enhanced.tif_full.jpg'},\n",
       "  {'Title': 'Syrtis Major Hemisphere Enhanced',\n",
       "   'Image_Url': 'https://marshemispheres.com/images/555e6403a6ddd7ba16ddb0e471cadcf7_syrtis_major_enhanced.tif_full.jpg'},\n",
       "  {'Title': 'Valles Marineris Hemisphere Enhanced',\n",
       "   'Image_Url': 'https://marshemispheres.com/images/b3c7c6c9138f57b4756be9b9c43e3a48_valles_marineris_enhanced.tif_full.jpg'}]}"
      ]
     },
     "execution_count": 165,
     "metadata": {},
     "output_type": "execute_result"
    }
   ],
   "source": [
    "#Checking to make sure everything works\n",
    "mars2"
   ]
  },
  {
   "cell_type": "code",
   "execution_count": 166,
   "id": "30bb5052",
   "metadata": {},
   "outputs": [],
   "source": [
    "#Closing our browser\n",
    "browser.quit()"
   ]
  },
  {
   "cell_type": "code",
   "execution_count": null,
   "id": "23bb44a2",
   "metadata": {},
   "outputs": [],
   "source": []
  }
 ],
 "metadata": {
  "kernelspec": {
   "display_name": "Python 3",
   "language": "python",
   "name": "python3"
  },
  "language_info": {
   "codemirror_mode": {
    "name": "ipython",
    "version": 3
   },
   "file_extension": ".py",
   "mimetype": "text/x-python",
   "name": "python",
   "nbconvert_exporter": "python",
   "pygments_lexer": "ipython3",
   "version": "3.8.8"
  }
 },
 "nbformat": 4,
 "nbformat_minor": 5
}
